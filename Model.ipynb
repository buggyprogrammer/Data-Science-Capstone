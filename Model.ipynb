{
 "cells": [
  {
   "cell_type": "code",
   "execution_count": 1,
   "id": "0e4f7b46-35fb-4590-a354-0733657de9d2",
   "metadata": {
    "execution": {
     "iopub.execute_input": "2021-10-17T17:35:44.022930Z",
     "iopub.status.busy": "2021-10-17T17:35:44.022930Z",
     "iopub.status.idle": "2021-10-17T17:35:46.876465Z",
     "shell.execute_reply": "2021-10-17T17:35:46.875468Z",
     "shell.execute_reply.started": "2021-10-17T17:35:44.022930Z"
    }
   },
   "outputs": [],
   "source": [
    "import pandas as pd\n",
    "import numpy as np\n",
    "import matplotlib.pyplot as plt\n",
    "import seaborn as sns\n",
    "import warnings; warnings.filterwarnings('ignore')"
   ]
  },
  {
   "cell_type": "code",
   "execution_count": 2,
   "id": "aae4d88e-cb0e-4384-89b3-3408aa73c978",
   "metadata": {
    "execution": {
     "iopub.execute_input": "2021-10-17T17:36:07.011526Z",
     "iopub.status.busy": "2021-10-17T17:36:07.011526Z",
     "iopub.status.idle": "2021-10-17T17:36:07.086941Z",
     "shell.execute_reply": "2021-10-17T17:36:07.086434Z",
     "shell.execute_reply.started": "2021-10-17T17:36:07.011526Z"
    }
   },
   "outputs": [
    {
     "data": {
      "text/html": [
       "<div>\n",
       "<style scoped>\n",
       "    .dataframe tbody tr th:only-of-type {\n",
       "        vertical-align: middle;\n",
       "    }\n",
       "\n",
       "    .dataframe tbody tr th {\n",
       "        vertical-align: top;\n",
       "    }\n",
       "\n",
       "    .dataframe thead th {\n",
       "        text-align: right;\n",
       "    }\n",
       "</style>\n",
       "<table border=\"1\" class=\"dataframe\">\n",
       "  <thead>\n",
       "    <tr style=\"text-align: right;\">\n",
       "      <th></th>\n",
       "      <th>Pregnancies</th>\n",
       "      <th>Glucose</th>\n",
       "      <th>BloodPressure</th>\n",
       "      <th>SkinThickness</th>\n",
       "      <th>Insulin</th>\n",
       "      <th>BMI</th>\n",
       "      <th>DiabetesPedigreeFunction</th>\n",
       "      <th>Age</th>\n",
       "      <th>Outcome</th>\n",
       "    </tr>\n",
       "  </thead>\n",
       "  <tbody>\n",
       "    <tr>\n",
       "      <th>0</th>\n",
       "      <td>0.813399</td>\n",
       "      <td>148.0</td>\n",
       "      <td>72.0</td>\n",
       "      <td>0.696814</td>\n",
       "      <td>0.183531</td>\n",
       "      <td>0.260117</td>\n",
       "      <td>0.821764</td>\n",
       "      <td>1.364180</td>\n",
       "      <td>1</td>\n",
       "    </tr>\n",
       "    <tr>\n",
       "      <th>1</th>\n",
       "      <td>-0.833906</td>\n",
       "      <td>85.0</td>\n",
       "      <td>66.0</td>\n",
       "      <td>0.036596</td>\n",
       "      <td>0.183531</td>\n",
       "      <td>-0.843284</td>\n",
       "      <td>-0.168409</td>\n",
       "      <td>0.126452</td>\n",
       "      <td>0</td>\n",
       "    </tr>\n",
       "    <tr>\n",
       "      <th>2</th>\n",
       "      <td>1.188996</td>\n",
       "      <td>183.0</td>\n",
       "      <td>64.0</td>\n",
       "      <td>0.054048</td>\n",
       "      <td>0.183531</td>\n",
       "      <td>-1.457745</td>\n",
       "      <td>0.935284</td>\n",
       "      <td>0.230161</td>\n",
       "      <td>1</td>\n",
       "    </tr>\n",
       "    <tr>\n",
       "      <th>3</th>\n",
       "      <td>-0.833906</td>\n",
       "      <td>89.0</td>\n",
       "      <td>66.0</td>\n",
       "      <td>-0.674132</td>\n",
       "      <td>-0.791683</td>\n",
       "      <td>-0.586404</td>\n",
       "      <td>-1.298725</td>\n",
       "      <td>-1.480075</td>\n",
       "      <td>0</td>\n",
       "    </tr>\n",
       "    <tr>\n",
       "      <th>4</th>\n",
       "      <td>-1.603317</td>\n",
       "      <td>137.0</td>\n",
       "      <td>40.0</td>\n",
       "      <td>0.696814</td>\n",
       "      <td>0.343910</td>\n",
       "      <td>1.462682</td>\n",
       "      <td>2.336680</td>\n",
       "      <td>0.327328</td>\n",
       "      <td>1</td>\n",
       "    </tr>\n",
       "  </tbody>\n",
       "</table>\n",
       "</div>"
      ],
      "text/plain": [
       "   Pregnancies  Glucose  BloodPressure  SkinThickness   Insulin       BMI  \\\n",
       "0     0.813399    148.0           72.0       0.696814  0.183531  0.260117   \n",
       "1    -0.833906     85.0           66.0       0.036596  0.183531 -0.843284   \n",
       "2     1.188996    183.0           64.0       0.054048  0.183531 -1.457745   \n",
       "3    -0.833906     89.0           66.0      -0.674132 -0.791683 -0.586404   \n",
       "4    -1.603317    137.0           40.0       0.696814  0.343910  1.462682   \n",
       "\n",
       "   DiabetesPedigreeFunction       Age  Outcome  \n",
       "0                  0.821764  1.364180        1  \n",
       "1                 -0.168409  0.126452        0  \n",
       "2                  0.935284  0.230161        1  \n",
       "3                 -1.298725 -1.480075        0  \n",
       "4                  2.336680  0.327328        1  "
      ]
     },
     "execution_count": 2,
     "metadata": {},
     "output_type": "execute_result"
    }
   ],
   "source": [
    "df = pd.read_csv('Data/Preprocessed.csv')\n",
    "df.head()"
   ]
  },
  {
   "cell_type": "code",
   "execution_count": 7,
   "id": "ed278e20-5bbc-43b4-af2e-3e0885437576",
   "metadata": {
    "execution": {
     "iopub.execute_input": "2021-10-17T18:54:23.019430Z",
     "iopub.status.busy": "2021-10-17T18:54:23.018430Z",
     "iopub.status.idle": "2021-10-17T18:54:23.072181Z",
     "shell.execute_reply": "2021-10-17T18:54:23.071166Z",
     "shell.execute_reply.started": "2021-10-17T18:54:23.019430Z"
    },
    "tags": []
   },
   "outputs": [
    {
     "name": "stdout",
     "output_type": "stream",
     "text": [
      "(768, 8) (768,)\n"
     ]
    }
   ],
   "source": [
    "features = df.drop('Outcome', axis=1)\n",
    "label = df['Outcome']\n",
    "print(features.shape, label.shape)"
   ]
  },
  {
   "cell_type": "code",
   "execution_count": 5,
   "id": "4abfaba0-89b0-4e5e-b88f-ec61e0308f83",
   "metadata": {
    "execution": {
     "iopub.execute_input": "2021-10-17T18:52:41.591708Z",
     "iopub.status.busy": "2021-10-17T18:52:41.590710Z",
     "iopub.status.idle": "2021-10-17T18:52:41.608662Z",
     "shell.execute_reply": "2021-10-17T18:52:41.607666Z",
     "shell.execute_reply.started": "2021-10-17T18:52:41.591708Z"
    },
    "tags": []
   },
   "outputs": [],
   "source": [
    "from sklearn.model_selection import StratifiedKFold\n",
    "skf = StratifiedKFold(n_splits=5, shuffle=True, random_state=21)"
   ]
  },
  {
   "cell_type": "code",
   "execution_count": 14,
   "id": "3d0a79dc-fa6e-416f-a72f-46d920be5aae",
   "metadata": {
    "execution": {
     "iopub.execute_input": "2021-10-17T18:58:31.051181Z",
     "iopub.status.busy": "2021-10-17T18:58:31.051181Z",
     "iopub.status.idle": "2021-10-17T18:58:31.255163Z",
     "shell.execute_reply": "2021-10-17T18:58:31.254169Z",
     "shell.execute_reply.started": "2021-10-17T18:58:31.051181Z"
    },
    "tags": []
   },
   "outputs": [
    {
     "name": "stdout",
     "output_type": "stream",
     "text": [
      "[INFO] Accuracy with LogisticRegression...\n",
      "[0.7662337662337663, 0.7467532467532467, 0.7597402597402597, 0.7254901960784313, 0.8169934640522876]\n"
     ]
    }
   ],
   "source": [
    "from sklearn.linear_model import LogisticRegression\n",
    "lr_model = LogisticRegression()\n",
    "\n",
    "accuracy = []\n",
    "print('[INFO] Accuracy with LogisticRegression...')\n",
    "for train_index, test_index in skf.split(features, label):\n",
    "    # data split\n",
    "    x_train_fold, x_test_fold = features.iloc[train_index], features.iloc[test_index]\n",
    "    y_train_fold, y_test_fold = label.iloc[train_index], label.iloc[test_index]\n",
    "    \n",
    "    # model training and its accuracy\n",
    "    lr_model.fit(x_train_fold, y_train_fold)\n",
    "    accuracy.append(lr_model.score(x_test_fold, y_test_fold))\n",
    "\n",
    "print(accuracy)"
   ]
  },
  {
   "cell_type": "code",
   "execution_count": 28,
   "id": "013450b9-fb44-4588-9fb4-f3fe3c3892e8",
   "metadata": {
    "execution": {
     "iopub.execute_input": "2021-10-17T19:04:04.868032Z",
     "iopub.status.busy": "2021-10-17T19:04:04.868032Z",
     "iopub.status.idle": "2021-10-17T19:04:06.658665Z",
     "shell.execute_reply": "2021-10-17T19:04:06.657666Z",
     "shell.execute_reply.started": "2021-10-17T19:04:04.868032Z"
    },
    "tags": []
   },
   "outputs": [
    {
     "name": "stdout",
     "output_type": "stream",
     "text": [
      "[INFO] Accuracy with Random Forest...\n",
      "[0.7467532467532467, 0.7402597402597403, 0.7467532467532467, 0.7516339869281046, 0.8104575163398693]\n"
     ]
    }
   ],
   "source": [
    "from sklearn.ensemble import RandomForestClassifier\n",
    "rf_model = RandomForestClassifier(n_estimators=100, min_samples_leaf=2, n_jobs=-1, random_state=21)\n",
    "\n",
    "accuracy = []\n",
    "print('[INFO] Accuracy with Random Forest...')\n",
    "for train_index, test_index in skf.split(features, label):\n",
    "    # data split\n",
    "    x_train_fold, x_test_fold = features.iloc[train_index], features.iloc[test_index]\n",
    "    y_train_fold, y_test_fold = label.iloc[train_index], label.iloc[test_index]\n",
    "    \n",
    "    # model training and its accuracy\n",
    "    rf_model.fit(x_train_fold, y_train_fold)\n",
    "    accuracy.append(rf_model.score(x_test_fold, y_test_fold))\n",
    "\n",
    "print(accuracy)"
   ]
  },
  {
   "cell_type": "code",
   "execution_count": 37,
   "id": "3eae1551-2483-405b-8a8f-3dd2396fa63d",
   "metadata": {
    "execution": {
     "iopub.execute_input": "2021-10-17T19:07:38.068432Z",
     "iopub.status.busy": "2021-10-17T19:07:38.067395Z",
     "iopub.status.idle": "2021-10-17T19:07:38.256322Z",
     "shell.execute_reply": "2021-10-17T19:07:38.255326Z",
     "shell.execute_reply.started": "2021-10-17T19:07:38.068432Z"
    },
    "tags": []
   },
   "outputs": [
    {
     "name": "stdout",
     "output_type": "stream",
     "text": [
      "[INFO] Accuracy with SVM...\n",
      "[0.7337662337662337, 0.7532467532467533, 0.7532467532467533, 0.7320261437908496, 0.7254901960784313]\n"
     ]
    }
   ],
   "source": [
    "from sklearn.svm import SVC\n",
    "svm_model = SVC(kernel='rbf', degree=5, random_state=0)\n",
    "\n",
    "accuracy = []\n",
    "print('[INFO] Accuracy with SVM...')\n",
    "for train_index, test_index in skf.split(features, label):\n",
    "    # data split\n",
    "    x_train_fold, x_test_fold = features.iloc[train_index], features.iloc[test_index]\n",
    "    y_train_fold, y_test_fold = label.iloc[train_index], label.iloc[test_index]\n",
    "    \n",
    "    # model training and its accuracy\n",
    "    svm_model.fit(x_train_fold, y_train_fold)\n",
    "    accuracy.append(svm_model.score(x_test_fold, y_test_fold))\n",
    "\n",
    "print(accuracy)"
   ]
  },
  {
   "cell_type": "code",
   "execution_count": null,
   "id": "a48a96a4-764d-4694-9651-93f1bea87bee",
   "metadata": {},
   "outputs": [],
   "source": []
  }
 ],
 "metadata": {
  "kernelspec": {
   "display_name": "Python 3",
   "language": "python",
   "name": "python3"
  },
  "language_info": {
   "codemirror_mode": {
    "name": "ipython",
    "version": 3
   },
   "file_extension": ".py",
   "mimetype": "text/x-python",
   "name": "python",
   "nbconvert_exporter": "python",
   "pygments_lexer": "ipython3",
   "version": "3.8.8"
  }
 },
 "nbformat": 4,
 "nbformat_minor": 5
}
